{
 "cells": [
  {
   "cell_type": "code",
   "execution_count": 1,
   "metadata": {},
   "outputs": [
    {
     "data": {
      "text/plain": [
       "'hello'"
      ]
     },
     "execution_count": 1,
     "metadata": {},
     "output_type": "execute_result"
    }
   ],
   "source": [
    "input()"
   ]
  },
  {
   "cell_type": "code",
   "execution_count": 2,
   "metadata": {},
   "outputs": [],
   "source": [
    "name = input('enter your name')\n",
    "city = input('enter your city')\n",
    "color =input('enter your favorite color')\n",
    "fruit =input('enter your fvt fruit')\n",
    "luckynum =input('enter your lucky number')"
   ]
  },
  {
   "cell_type": "code",
   "execution_count": 2,
   "metadata": {},
   "outputs": [
    {
     "name": "stdout",
     "output_type": "stream",
     "text": [
      "<class 'int'>\n",
      "<class 'str'>\n",
      "<class 'str'>\n",
      "<class 'float'>\n"
     ]
    }
   ],
   "source": [
    "a = 10\n",
    "b = \"10\"\n",
    "c = \"10.20\"\n",
    "d = 10.20\n",
    "print(type(a))\n",
    "print(type(b))\n",
    "print(type(c))\n",
    "print(type(d))"
   ]
  },
  {
   "cell_type": "code",
   "execution_count": 5,
   "metadata": {},
   "outputs": [
    {
     "name": "stdout",
     "output_type": "stream",
     "text": [
      "7\n"
     ]
    }
   ],
   "source": [
    "a= int(input('enter a number'))\n",
    "b = int(input('enter a number'))\n",
    "c = a+b\n",
    "print(c)\n"
   ]
  },
  {
   "cell_type": "code",
   "execution_count": 9,
   "metadata": {},
   "outputs": [
    {
     "data": {
      "text/plain": [
       "15000.0"
      ]
     },
     "execution_count": 9,
     "metadata": {},
     "output_type": "execute_result"
    }
   ],
   "source": [
    "p = int(input('enter your principal'))\n",
    "t = int(input(\"enter your time\"))\n",
    "r = int(input(\"enter your rate\"))\n",
    "si = p*r*t/100\n",
    "si\n",
    "\n"
   ]
  },
  {
   "cell_type": "markdown",
   "metadata": {},
   "source": [
    "formated output"
   ]
  },
  {
   "cell_type": "markdown",
   "metadata": {},
   "source": [
    "answer 12 - 3 = 9"
   ]
  },
  {
   "cell_type": "code",
   "execution_count": 8,
   "metadata": {},
   "outputs": [
    {
     "name": "stdout",
     "output_type": "stream",
     "text": [
      "answer: 12 - 3 = 9\n"
     ]
    }
   ],
   "source": [
    "a = 12\n",
    "b = 3\n",
    "c = a - b\n",
    "print(f\"answer: {a} - {b} = {c}\")"
   ]
  },
  {
   "cell_type": "code",
   "execution_count": 9,
   "metadata": {},
   "outputs": [
    {
     "name": "stdout",
     "output_type": "stream",
     "text": [
      "simple interest calculator\n",
      "principle  = 1200 rs\n",
      "rate = 30000 %\n",
      "time =\n",
      "---------------\n",
      "simplen interest= 3600000.0\n"
     ]
    }
   ],
   "source": [
    "p = int(input(\"enter your principle\"))\n",
    "r = int(input('enter your rate'))\n",
    "t = int(input('enter your time'))\n",
    "si = p*r*z/100\n",
    "print ('simple interest calculator')\n",
    "print(\"principle\" ,\" =\" ,p, \"rs\")\n",
    "print(\"rate =\" , r , '%')\n",
    "print(\"time =\") , t , \"yrs\"\n",
    "print('-'*15)\n",
    "print('simplen interest=' , si)\n"
   ]
  },
  {
   "cell_type": "code",
   "execution_count": 11,
   "metadata": {},
   "outputs": [],
   "source": [
    "name=input(\"enter youe name\")\n",
    "age =input('enter your age ')\n",
    "school =input('enter your age')\n",
    "clss =input('enter your class where youre are studing')"
   ]
  },
  {
   "cell_type": "code",
   "execution_count": null,
   "metadata": {},
   "outputs": [],
   "source": []
  },
  {
   "cell_type": "markdown",
   "metadata": {},
   "source": [
    "string interpolation for formatted output"
   ]
  },
  {
   "cell_type": "code",
   "execution_count": 4,
   "metadata": {},
   "outputs": [
    {
     "name": "stdout",
     "output_type": "stream",
     "text": [
      "area of triangle\n",
      "base = 12 cm\n",
      "height = 15 cm\n",
      "_______________\n",
      "area = 90.0 cm\n"
     ]
    }
   ],
   "source": [
    "# area of triangle\n",
    "b = int(input(\"enter the base of the trianggle\"))\n",
    "h = int(input(\"enter thr height of the triangle\"))\n",
    "area = 1/2*b*h\n",
    "print('area of triangle')\n",
    "print(f'base = {b} cm')\n",
    "print(f'height = {h} cm')\n",
    "print('_'*15)\n",
    "print(f'area = {area} cm')"
   ]
  },
  {
   "cell_type": "code",
   "execution_count": 7,
   "metadata": {},
   "outputs": [
    {
     "name": "stdout",
     "output_type": "stream",
     "text": [
      "area of triangle\n",
      "base = 13 cm\n",
      "h 111 cm\n",
      "area = 721.5 cm\n"
     ]
    }
   ],
   "source": [
    "# area of triangle \n",
    "b = int(input(\"enter the base of tri\"))\n",
    "h = int(input(\"enter the height of tri\"))\n",
    "area = 1/2*b*h\n",
    "print ('area of triangle')\n",
    "print(f'base = {b} cm')\n",
    "print (f\"h {h} cm\")\n",
    "print (f'area = {area} cm')\n"
   ]
  }
 ],
 "metadata": {
  "kernelspec": {
   "display_name": "base",
   "language": "python",
   "name": "python3"
  },
  "language_info": {
   "codemirror_mode": {
    "name": "ipython",
    "version": 3
   },
   "file_extension": ".py",
   "mimetype": "text/x-python",
   "name": "python",
   "nbconvert_exporter": "python",
   "pygments_lexer": "ipython3",
   "version": "3.11.5"
  }
 },
 "nbformat": 4,
 "nbformat_minor": 2
}
